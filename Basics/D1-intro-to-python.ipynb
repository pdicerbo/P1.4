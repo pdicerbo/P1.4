{
 "cells": [
  {
   "cell_type": "markdown",
   "metadata": {},
   "source": [
    "# Why Python\n",
    "\n",
    "The best way to test a tool is to try it..."
   ]
  },
  {
   "cell_type": "code",
   "execution_count": 4,
   "metadata": {
    "collapsed": false
   },
   "outputs": [],
   "source": [
    "import antigravity"
   ]
  },
  {
   "cell_type": "markdown",
   "metadata": {},
   "source": [
    "Try asking python about itself..."
   ]
  },
  {
   "cell_type": "code",
   "execution_count": 5,
   "metadata": {
    "collapsed": false
   },
   "outputs": [
    {
     "name": "stdout",
     "output_type": "stream",
     "text": [
      "The Zen of Python, by Tim Peters\n",
      "\n",
      "Beautiful is better than ugly.\n",
      "Explicit is better than implicit.\n",
      "Simple is better than complex.\n",
      "Complex is better than complicated.\n",
      "Flat is better than nested.\n",
      "Sparse is better than dense.\n",
      "Readability counts.\n",
      "Special cases aren't special enough to break the rules.\n",
      "Although practicality beats purity.\n",
      "Errors should never pass silently.\n",
      "Unless explicitly silenced.\n",
      "In the face of ambiguity, refuse the temptation to guess.\n",
      "There should be one-- and preferably only one --obvious way to do it.\n",
      "Although that way may not be obvious at first unless you're Dutch.\n",
      "Now is better than never.\n",
      "Although never is often better than *right* now.\n",
      "If the implementation is hard to explain, it's a bad idea.\n",
      "If the implementation is easy to explain, it may be a good idea.\n",
      "Namespaces are one honking great idea -- let's do more of those!\n"
     ]
    }
   ],
   "source": [
    "import this"
   ]
  },
  {
   "cell_type": "markdown",
   "metadata": {},
   "source": [
    "This two little jokes where intended to demonstrate that programming can be fun, using the right tool for the right task. We had fun, meanwhile, and we already learned something:\n",
    "```python\n",
    "import module_name as give_it_an_handy_name\n",
    "```\n",
    "A python *Module* is, ~~is a file containing Python definitions and statements.~~ Sorry about that, sofware documentation can be criptic...\n",
    "\n",
    "Let's try again. A python *Module* is a collection of functionalities that some good soul wrote for you. It is also a very handy way to collect your own code. It is such a smart idea that you only need to `import` it and `give_it_an_handy_name`"
   ]
  },
  {
   "cell_type": "markdown",
   "metadata": {},
   "source": [
    "# It is time to get back to chalk and talk...\n",
    "\n",
    "## The scientist's needs\n",
    "\n",
    "* Get data (simulation, experiment control, etc.)\n",
    "\n",
    "* Manipulate and process data\n",
    "\n",
    "* Visualize results\n",
    "\n",
    "* Communicate results\n",
    "\n",
    "## Desiderata of a Researcher\n",
    "\n",
    "* Rich collection of already existing **bricks**: Don't reinvent the wheel!.\n",
    "\n",
    "* Easy to learn\n",
    "\n",
    "* Easy communication: the code should be as readable as a book.\n",
    "\n",
    "* The language should contain as few syntax symbols or unneeded routines as possible.\n",
    "\n",
    "## Compiled languages?\n",
    "\n",
    "* Advantages:\n",
    "\n",
    "  * Very fast. Very optimised compilers. \n",
    "\n",
    "  * Some very optimised scientific libraries have been written for these\n",
    "    languages. Example: BLAS\n",
    "\n",
    "* Drawbacks:\n",
    "\n",
    "  * Painful usage: no interactivity during development,\n",
    "    mandatory compilation steps, verbose syntax (&, ::, }}, ; etc.),\n",
    "    manual memory management (tricky in C). These are **difficult\n",
    "    languages** for non computer scientists.\n",
    "    \n",
    "## Scripting languages? Matlab\n",
    "\n",
    "* Advantages:\n",
    "\n",
    "  * Very rich collection of libraries with numerous algorithms, still not as many libraries as you can find for python.\n",
    "\n",
    "  * Pleasant (?) development environment.\n",
    "\n",
    "  * Commercial support is available.\n",
    "\n",
    "* Drawbacks:\n",
    "\n",
    "  * Base language is quite poor and can become restrictive for advanced users.\n",
    "\n",
    "  * Not free.\n",
    "\n",
    "## Why Python?\n",
    "\n",
    "Really?!?! Are we really asking this question after all the fun we got in the first two lines of code?!?!\n",
    "\n",
    "### Advantages:\n",
    "\n",
    "  * Very rich scientific computing libraries\n",
    "\n",
    "  * Well thought out language: \"code what we think\".\n",
    "\n",
    "  * Many libraries for other tasks than scientific computing (web server\n",
    "    management, serial port access, etc.)\n",
    "\n",
    "  * Free and open-source software, widely spread, with a vibrant community.\n",
    " \n",
    "### Drawbacks:\n",
    "\n",
    "* less pleasant development environment than, for example, Matlab. (More geek-oriented). (Oh Gosh! are we really going to say so?)\n",
    "\n",
    "* Yet there is not such a broad collection of specialised algorithms that can be found in more specific software or toolboxes.\n",
    "\n",
    "**BUT** there are new development solutions (like *sage*:\n",
    " www.sagemath.org) which are becoming more and more powerful and\n",
    " user-friendly...\n",
    "\n",
    "## The interactive workflow: IPython notebook\n",
    "\n",
    "The simple way: [SageMath Cluod](https://cloud.sagemath.com/)\n",
    "\n",
    "<!--The best of the understanding of a computer is a series of `on-off`. \n",
    "In consideration of this fact, editing text to switch on and off \n",
    "those transistors is quite of a luxury. That's what programming languages \n",
    "stand for. Now, independently of the language, as the set of computer instructions\n",
    "gets more and more complex, \n",
    "the programmer needs a friendly environment to edit text, ~~compile~~, and run programs.\n",
    "The sequence of actions: edit, ~~compile~~, and run will be addressed as, *workflow*.\n",
    "\n",
    "General-purpose languages do not provide a blessed workflow environment. \n",
    "In the *out of the box* commercial era, beginners expecting exiting \n",
    "plots as soon as they type `python`, could be disappointed. It is \n",
    "part of the programmer's job to set up the *workflow* they are\n",
    "most comfortable with. The reward for such an investment is fluently writing programs that \n",
    "run on (possibly) any machine, from web servers, to embedded devices.\n",
    "\n",
    "The former is true for any programming language. What is true about\n",
    "python, is that it is cool. As consequence, $\\exists$ [IPython](http://ipython.org/ipython-doc/dev/index.html).\n",
    "IPython provides a web interface to present python applications.-->\n",
    "\n",
    "<!--- Python is a general-purpose language. As such, there is not one blessed\n",
    "environment to work in, and not only one way of using it. Although\n",
    "this makes it harder for beginners to find their way, it makes it\n",
    "possible for Python to be used to write programs, in web servers, or\n",
    "embedded devices.\n",
    "\n",
    "Reference document for this section: [IPython user manual:](http://ipython.org/ipython-doc/dev/index.html)\n",
    "\n",
    "###IPython Notebooks\n",
    "\n",
    "What you are reading is called IPython notebook. It is an enhanced environment that combine code execution, rich text, mathematics, plots and rich media. The official [documentation](http://ipython.org/notebook.html) provide videos that clearly illustrate the setup of an IPython notebook.\n",
    "\n",
    "###Installation on ubuntu 14.04:\n",
    "\n",
    "Ubuntu is an easy and popular Linux distrubution. An updaded installation of IPython is achieved with:\n",
    "```bash\n",
    "sudo apt-get install python-pip\n",
    "sudo pip install ipython\n",
    "sudo pip install jupyter\n",
    "```\n",
    "--->"
   ]
  },
  {
   "cell_type": "markdown",
   "metadata": {},
   "source": [
    "# Python Tutorial"
   ]
  },
  {
   "cell_type": "markdown",
   "metadata": {},
   "source": [
    "The first program you want to write is usually called `'Hello World'`. The programmer usually asks the computer to `print` a *string* (a series of characters) containing the message `'Hello World!'`. Try guessing how to do that in python:"
   ]
  },
  {
   "cell_type": "code",
   "execution_count": 6,
   "metadata": {
    "collapsed": false
   },
   "outputs": [
    {
     "name": "stdout",
     "output_type": "stream",
     "text": [
      "Hello World!\n"
     ]
    }
   ],
   "source": [
    "print('Hello World!')"
   ]
  },
  {
   "cell_type": "markdown",
   "metadata": {},
   "source": [
    "Not that we still need to convince you, about the beauty of python, but let's see the `'Hello World'` program in different languages. Start with C:\n",
    "```c\n",
    "#include <stdio.h>\n",
    "int main()\n",
    "{\n",
    "  printf(\"Hello world\\n\");\n",
    "  return 0;\n",
    "}\n",
    "```\n",
    "Now C++\n",
    "```c++\n",
    "#include <iostream>\n",
    "int main()\n",
    "{\n",
    "  std::cout << \"Hello World!\";\n",
    "}\n",
    "```\n",
    "Last, but not least, the good old fortran:\n",
    "```fortran\n",
    "program hello\n",
    "write(*,*) \"Hello World!\"\n",
    "end program hello\n",
    "```\n",
    "\n",
    "Of course, if you ever want to run any of the above, you have to save the program to a file, compile it, see if works, work your way through `segmentation fault`s..."
   ]
  },
  {
   "cell_type": "markdown",
   "metadata": {},
   "source": [
    "\n",
    "\n",
    "The first thing beginners will be surprised of, is the amount of in formation you can get from the computer, So why not asking Python, some help about the function `print`:"
   ]
  },
  {
   "cell_type": "code",
   "execution_count": 11,
   "metadata": {
    "collapsed": false
   },
   "outputs": [
    {
     "name": "stdout",
     "output_type": "stream",
     "text": [
      "Object `print` not found.\n"
     ]
    }
   ],
   "source": [
    "print(?)"
   ]
  },
  {
   "cell_type": "markdown",
   "metadata": {},
   "source": [
    "## Variables\n",
    "Variables are simply names which point to any value or object. They can be of different types:"
   ]
  },
  {
   "cell_type": "code",
   "execution_count": 4,
   "metadata": {
    "collapsed": true
   },
   "outputs": [],
   "source": [
    "a_string = \"hello, world\"\n",
    "an_integer = 12\n",
    "a_float = 3.14\n",
    "a_boolean = True\n",
    "nothing = None"
   ]
  },
  {
   "cell_type": "markdown",
   "metadata": {},
   "source": [
    "The experienced programmer may have already noticed one Python feature: dynamic typing. The value or type of a variable may be changed at any time. The situation is different in C++ where you need to delare variables:\n",
    "```C++\n",
    "std::string  a_string = \"hello, world\";\n",
    "int an_integer = 12;\n",
    "float a_float = 3.14;\n",
    "bool a_boolean = true;\n",
    "```\n",
    "Defining `nothing` in C++ isn't difficult but a little delicate... Why bother now?"
   ]
  },
  {
   "cell_type": "markdown",
   "metadata": {},
   "source": [
    "Next natural step is to print and control those variables, and some other expressions:"
   ]
  },
  {
   "cell_type": "code",
   "execution_count": 5,
   "metadata": {
    "collapsed": false
   },
   "outputs": [
    {
     "name": "stdout",
     "output_type": "stream",
     "text": [
      "hello, world\n",
      "12\n",
      "3.14\n",
      "True\n",
      "None\n",
      "12\n",
      "4\n"
     ]
    }
   ],
   "source": [
    "print(a_string)\n",
    "print(an_integer)\n",
    "print(a_float)\n",
    "print(a_boolean)\n",
    "print(nothing)\n",
    "print(12)\n",
    "print((5+3)/2)"
   ]
  },
  {
   "cell_type": "markdown",
   "metadata": {},
   "source": [
    "## Strings\n",
    "\n",
    "Strings are treated in a very natural, and elegant way by python: "
   ]
  },
  {
   "cell_type": "code",
   "execution_count": 6,
   "metadata": {
    "collapsed": false
   },
   "outputs": [
    {
     "name": "stdout",
     "output_type": "stream",
     "text": [
      "abc\n",
      "abc\n",
      "this is\n",
      "a multiline\n",
      "string.\n"
     ]
    }
   ],
   "source": [
    "string_single_quotes = 'abc'\n",
    "string_double_quotes = \"abc\"\n",
    "string_triple_quotes = \"\"\"this is\n",
    "a multiline\n",
    "string.\"\"\"\n",
    "print(string_single_quotes)\n",
    "print(string_double_quotes)\n",
    "print(string_triple_quotes)"
   ]
  },
  {
   "cell_type": "markdown",
   "metadata": {},
   "source": [
    "This is useful when needed to include quotes in a string:"
   ]
  },
  {
   "cell_type": "code",
   "execution_count": 7,
   "metadata": {
    "collapsed": false
   },
   "outputs": [
    {
     "name": "stdout",
     "output_type": "stream",
     "text": [
      "hello \"world\"\n",
      "don't\n"
     ]
    }
   ],
   "source": [
    "string1 = 'hello \"world\"'\n",
    "string2 = \"don't\"\n",
    "print(string1)\n",
    "print(string2)"
   ]
  },
  {
   "cell_type": "markdown",
   "metadata": {},
   "source": [
    "The other option is to use backslashes:"
   ]
  },
  {
   "cell_type": "code",
   "execution_count": 8,
   "metadata": {
    "collapsed": false
   },
   "outputs": [
    {
     "name": "stdout",
     "output_type": "stream",
     "text": [
      "don't\n"
     ]
    }
   ],
   "source": [
    "string2 = 'don\\'t'\n",
    "print(string2)"
   ]
  },
  {
   "cell_type": "markdown",
   "metadata": {},
   "source": [
    "Be careful about backslashes in paths:\n",
    "```\n",
    "Win_path = 'C:\\\\Windows\\\\System32'\n",
    "```"
   ]
  },
  {
   "cell_type": "markdown",
   "metadata": {},
   "source": [
    "Strings are objects which support many operations:"
   ]
  },
  {
   "cell_type": "code",
   "execution_count": 9,
   "metadata": {
    "collapsed": false
   },
   "outputs": [
    {
     "name": "stdout",
     "output_type": "stream",
     "text": [
      "hello \"world\" : don't\n",
      "21\n",
      "HELLO \"WORLD\" : DON'T\n"
     ]
    }
   ],
   "source": [
    "strings = string1 + \" : \" + string2\n",
    "print(strings)\n",
    "print(len(strings))\n",
    "strings_uppercase = strings.upper()\n",
    "print(strings_uppercase)"
   ]
  },
  {
   "cell_type": "markdown",
   "metadata": {},
   "source": [
    "In Python you will notice that it will be veri common the sintax `object.some_method()`. This is typical in object oriented programming. The string object is no exeption. Take the `string = ' abdefghiabc '`, and first `strip` out the opening and closing spaces. Then `replace` the string `abc` with `123`"
   ]
  },
  {
   "cell_type": "code",
   "execution_count": 10,
   "metadata": {
    "collapsed": false
   },
   "outputs": [
    {
     "name": "stdout",
     "output_type": "stream",
     "text": [
      " abcdefghiabc \n",
      "abcdefghiabc\n",
      "123defghi123\n"
     ]
    }
   ],
   "source": [
    "string = ' abcdefghiabc '\n",
    "print(string)\n",
    "string = string.strip()\n",
    "print(string)\n",
    "string = string.replace('abc','123')\n",
    "print(string)"
   ]
  },
  {
   "cell_type": "code",
   "execution_count": 11,
   "metadata": {
    "collapsed": false
   },
   "outputs": [
    {
     "name": "stdout",
     "output_type": "stream",
     "text": [
      "12 I am a string\n",
      "(23, 'I am a number')\n"
     ]
    }
   ],
   "source": [
    "i = 12\n",
    "s = str(i)\n",
    "print(s+' I am a string')\n",
    "s = '23'\n",
    "i = int(s)\n",
    "print(i, 'I am a number')"
   ]
  },
  {
   "cell_type": "markdown",
   "metadata": {},
   "source": [
    "Exercise: in the last line change the comma to `+`, why are you getting an error?"
   ]
  },
  {
   "cell_type": "markdown",
   "metadata": {},
   "source": [
    "## Lists\n",
    "\n",
    "A list is a dynamic array of any objects. It is declared with square\n",
    "brackets:"
   ]
  },
  {
   "cell_type": "code",
   "execution_count": 12,
   "metadata": {
    "collapsed": false
   },
   "outputs": [
    {
     "name": "stdout",
     "output_type": "stream",
     "text": [
      "[1, 2, 3, 'abc', 'def']\n"
     ]
    }
   ],
   "source": [
    "mylist = [1, 2, 3, 'abc', 'def']\n",
    "print(mylist)"
   ]
  },
  {
   "cell_type": "markdown",
   "metadata": {},
   "source": [
    "Access a specific element by index (index starts at zero):"
   ]
  },
  {
   "cell_type": "code",
   "execution_count": 13,
   "metadata": {
    "collapsed": false
   },
   "outputs": [
    {
     "name": "stdout",
     "output_type": "stream",
     "text": [
      "3\n"
     ]
    }
   ],
   "source": [
    "third_item = mylist[2]\n",
    "print(third_item)"
   ]
  },
  {
   "cell_type": "markdown",
   "metadata": {},
   "source": [
    "List operations:"
   ]
  },
  {
   "cell_type": "code",
   "execution_count": 14,
   "metadata": {
    "collapsed": false
   },
   "outputs": [
    {
     "name": "stdout",
     "output_type": "stream",
     "text": [
      "[1, 2, 'new value', 'abc', 'def']\n",
      "[1, 2, 'new value', 'abc', 'def', 'another value']\n",
      "[1, 2, 'new value', 'def', 'another value']\n",
      "[1, 2, 'new value', 'def', 'another value', 4, 5, 6]\n"
     ]
    }
   ],
   "source": [
    "mylist[2] = 'new value' \n",
    "print(mylist)\n",
    "mylist.append('another value')\n",
    "print(mylist)\n",
    "mylist.remove('abc')\n",
    "print(mylist)\n",
    "length = len(mylist)\n",
    "longlist = mylist + [4,5,6]\n",
    "print(longlist)"
   ]
  },
  {
   "cell_type": "markdown",
   "metadata": {},
   "source": [
    "Slicing is extracting a sublist from a list:"
   ]
  },
  {
   "cell_type": "code",
   "execution_count": 15,
   "metadata": {
    "collapsed": false
   },
   "outputs": [
    {
     "name": "stdout",
     "output_type": "stream",
     "text": [
      "[1, 2]\n",
      "['new value', 'def']\n",
      "['def', 'another value']\n",
      "['def', 'another value']\n",
      "[1, 2]\n"
     ]
    }
   ],
   "source": [
    "first_two_items = mylist[0:2] \n",
    "print(first_two_items)\n",
    "third_and_fourth = mylist[2:4]\n",
    "print(third_and_fourth)\n",
    "fourth_up_to_end = mylist[3:]\n",
    "print(fourth_up_to_end)\n",
    "last_two_items = mylist[-2:]\n",
    "print(last_two_items)\n",
    "first_two_items2 = mylist[:2]\n",
    "print(first_two_items2)"
   ]
  },
  {
   "cell_type": "markdown",
   "metadata": {},
   "source": [
    "Lists may contain lists (it works like a 2d array):"
   ]
  },
  {
   "cell_type": "code",
   "execution_count": 16,
   "metadata": {
    "collapsed": false
   },
   "outputs": [
    {
     "name": "stdout",
     "output_type": "stream",
     "text": [
      "[[1, 2, 'new value', 'def', 'another value'], 'abc', [1, 2, 'new value', 'def', 'another value'], [1, 2, 3]]\n",
      "3\n",
      "another value\n"
     ]
    }
   ],
   "source": [
    "mylist2 = [mylist, 'abc', mylist, [1, 2, 3]]\n",
    "print(mylist2)\n",
    "item1 = mylist2[3][2]\n",
    "print(item1)\n",
    "item2 = mylist2[0][4]\n",
    "print(item2)"
   ]
  },
  {
   "cell_type": "markdown",
   "metadata": {},
   "source": [
    "## Touples"
   ]
  },
  {
   "cell_type": "markdown",
   "metadata": {},
   "source": [
    "A tuple is similar to a list but it is a fixed-size, immutable\n",
    "array: once a tuple has been created, its elements may not be changed,\n",
    "removed, appended or inserted.  It is declared using parentheses and\n",
    "comma-separated values,"
   ]
  },
  {
   "cell_type": "code",
   "execution_count": 17,
   "metadata": {
    "collapsed": false
   },
   "outputs": [
    {
     "name": "stdout",
     "output_type": "stream",
     "text": [
      "(1, 2, 3, 'abc', 'def')\n"
     ]
    }
   ],
   "source": [
    "a_tuple = (1, 2, 3, 'abc', 'def') \n",
    "print(a_tuple)"
   ]
  },
  {
   "cell_type": "markdown",
   "metadata": {},
   "source": [
    "but parentheses are optional:"
   ]
  },
  {
   "cell_type": "code",
   "execution_count": 18,
   "metadata": {
    "collapsed": false
   },
   "outputs": [
    {
     "name": "stdout",
     "output_type": "stream",
     "text": [
      "(1, 2, 3, 'abc', 'def')\n"
     ]
    }
   ],
   "source": [
    "a_tuple = 1, 2, 3, 'abc', 'def'\n",
    "print(a_tuple)"
   ]
  },
  {
   "cell_type": "markdown",
   "metadata": {},
   "source": [
    "## Blocks and Indentation (control flow)\n",
    "* Blocks of code are delimited using indentation, either spaces or tabs at the beginning of lines.\n",
    "\n",
    "  * This is one of the main differences of Python over other\n",
    "    languages, and usually the main reason why people love it or hate\n",
    "    it. ;-) \n",
    "  * Tip: NEVER mix tabs and spaces in a script, it may result in\n",
    "    tricky bugs.  \n",
    "\n",
    "* From my experience, the safest solution is to always use 4-spaces \n",
    "  (or 2-spaces) indents, never tabs. (because each editor may convert\n",
    "  tabs either to 2, 4 or 8 spaces)\n",
    "* Alternatively, use ipython notebooks, like this one, which automatically indent for you...\n"
   ]
  },
  {
   "cell_type": "code",
   "execution_count": 23,
   "metadata": {
    "collapsed": false
   },
   "outputs": [
    {
     "name": "stdout",
     "output_type": "stream",
     "text": [
      "The value of a is:\n",
      "a=\"test\"\n"
     ]
    }
   ],
   "source": [
    "a = 'test'\n",
    "\n",
    "if a == 3:\n",
    "    print('The value of a is:')\n",
    "    print('a=3')\n",
    "if a != 'test':\n",
    "    print('a is not \"test\"' )\n",
    "    test_mode = False\n",
    "else:\n",
    "    print('The value of a is:')\n",
    "    print('a=\"test\"')\n",
    "    test_mode = True"
   ]
  },
  {
   "cell_type": "markdown",
   "metadata": {},
   "source": [
    "## While and for loops"
   ]
  },
  {
   "cell_type": "code",
   "execution_count": 12,
   "metadata": {
    "collapsed": false
   },
   "outputs": [
    {
     "name": "stdout",
     "output_type": "stream",
     "text": [
      "('while loop, a= :', 1)\n",
      "('while loop, a= :', 2)\n",
      "('while loop, a= :', 3)\n",
      "('while loop, a= :', 4)\n",
      "('while loop, a= :', 5)\n",
      "('while loop, a= :', 6)\n",
      "('while loop, a= :', 7)\n",
      "('while loop, a= :', 8)\n",
      "('while loop, a= :', 9)\n",
      "('for loop, a= :', 0)\n",
      "('for loop, a= :', 1)\n",
      "('for loop, a= :', 2)\n",
      "('for loop, a= :', 3)\n",
      "('for loop, a= :', 4)\n",
      "('for loop, a= :', 5)\n",
      "('for loop, a= :', 6)\n",
      "('for loop, a= :', 7)\n",
      "('for loop, a= :', 8)\n",
      "('for loop, a= :', 9)\n",
      "('iterate over a list, a= :', 2)\n",
      "('iterate over a list, a= :', 4)\n",
      "('iterate over a list, a= :', 8)\n",
      "('iterate over a list, a= :', 16)\n",
      "('iterate over a list, a= :', 32)\n",
      "[1e-10, 1e-09, 1e-08, 1e-07, 1e-06, 1e-05, 0.0001, 0.001, 0.01, 0.1, 1]\n"
     ]
    }
   ],
   "source": [
    "a=1\n",
    "while a<10:\n",
    "    print('while loop, a= :', a)\n",
    "    a += 1\n",
    "\n",
    "for a in range(10): \n",
    "    print('for loop, a= :', a)\n",
    "\n",
    "my_list = [2, 4, 8, 16, 32]\n",
    "for a in my_list:\n",
    "    print('iterate over a list, a= :', a)\n",
    "\n",
    "\n",
    "newlist = [10**i for i in range(-10,1)]\n",
    "print(newlist)"
   ]
  },
  {
   "cell_type": "markdown",
   "metadata": {},
   "source": [
    "## Function definitions"
   ]
  },
  {
   "cell_type": "code",
   "execution_count": 26,
   "metadata": {
    "collapsed": false
   },
   "outputs": [
    {
     "name": "stdout",
     "output_type": "stream",
     "text": [
      "3\n",
      "Ciao mondo\n",
      "1.0\n",
      "['a', 'c', 'i', 'o']\n"
     ]
    }
   ],
   "source": [
    "def mysum(a, b):\n",
    "    return a+b\n",
    "\n",
    "def my_eval(f, x):\n",
    "    return f(x)\n",
    "\n",
    "print(mysum(1, 2))\n",
    "print(mysum('Ciao ', 'mondo'))\n",
    "\n",
    "print(my_eval(float, 1))\n",
    "print(my_eval(sorted, 'ciao'))"
   ]
  },
  {
   "cell_type": "markdown",
   "metadata": {},
   "source": [
    "## Importing external packages: Plotting"
   ]
  },
  {
   "cell_type": "code",
   "execution_count": 13,
   "metadata": {
    "collapsed": false
   },
   "outputs": [
    {
     "data": {
      "text/plain": [
       "[<matplotlib.lines.Line2D at 0x107b4e110>]"
      ]
     },
     "execution_count": 13,
     "metadata": {},
     "output_type": "execute_result"
    },
    {
     "data": {
      "image/png": "[encoded data removed]",
      "text/plain": [
       "<matplotlib.figure.Figure at 0x1064cac10>"
      ]
     },
     "metadata": {},
     "output_type": "display_data"
    }
   ],
   "source": [
    "%matplotlib inline\n",
    "# This is a comment...\n",
    "# Import some packages to plot and work with arrays of floats\n",
    "import numpy as np # Now all numpy classes are available as np.name\n",
    "import matplotlib.pylab as pl # same as above\n",
    "\n",
    "# Alternatively, you could use \n",
    "# %pylab inline\n",
    "# which would import all graphics, matplotlib and numpy in the current\n",
    "# namespace, as if you typed \n",
    "# from numpy import *\n",
    "\n",
    "# Make equidistant linear space between 0 and 1 with 101 points\n",
    "x = np.linspace(0,1,101);\n",
    "y = np.sin(x*(2*np.pi))\n",
    "\n",
    "pl.plot(x,y)"
   ]
  },
  {
   "cell_type": "markdown",
   "metadata": {
    "collapsed": true
   },
   "source": [
    "# Additional Material\n",
    "\n",
    "Similar introductory python lectures can be found at:\n",
    "\n",
    "[Juan H. Koppler](http://www.juanklopper.com/opencourseware/mathematics-2/ipython-lecture-notes/)\n",
    "\n",
    "[Lorena Barba](https://github.com/barbagroup/CFDPython)\n",
    "\n",
    "[Robert Johansson](https://github.com/jrjohansson/scientific-python-lectures)"
   ]
  }
 ],
 "metadata": {
  "kernelspec": {
   "display_name": "Python 2",
   "language": "python",
   "name": "python2"
  },
  "language_info": {
   "codemirror_mode": {
    "name": "ipython",
    "version": 2
   },
   "file_extension": ".py",
   "mimetype": "text/x-python",
   "name": "python",
   "nbconvert_exporter": "python",
   "pygments_lexer": "ipython2",
   "version": "2.7.10"
  }
 },
 "nbformat": 4,
 "nbformat_minor": 0
}
