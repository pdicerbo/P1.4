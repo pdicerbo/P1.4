{
 "cells": [
  {
   "cell_type": "code",
   "execution_count": 1,
   "metadata": {
    "collapsed": false
   },
   "outputs": [
    {
     "name": "stdout",
     "output_type": "stream",
     "text": [
      "Populating the interactive namespace from numpy and matplotlib\n"
     ]
    }
   ],
   "source": [
    "%pylab inline"
   ]
  },
  {
   "cell_type": "markdown",
   "metadata": {},
   "source": [
    "# Construct Lagrange basis functions\n",
    "\n",
    "The $i$-th Lagrange polynomial associated to $x_i$, evaluated at $x$, is defined as:\n",
    "$$\n",
    "l_i(x) := \\prod_{j=0, j\\neq i}^{n} \\frac{x-x_j}{x_i-x_j}.\n",
    "$$"
   ]
  },
  {
   "cell_type": "markdown",
   "metadata": {},
   "source": [
    "In this lecture we take advantage of `numpy` implementation of Polynomials:"
   ]
  },
  {
   "cell_type": "code",
   "execution_count": 2,
   "metadata": {
    "collapsed": false
   },
   "outputs": [],
   "source": [
    "from numpy.polynomial.polynomial import Polynomial"
   ]
  },
  {
   "cell_type": "markdown",
   "metadata": {},
   "source": [
    "Let `q` be a given array of points $\\{x_i\\}$ with $i = 0\\ldots n-1$."
   ]
  },
  {
   "cell_type": "code",
   "execution_count": 3,
   "metadata": {
    "collapsed": false
   },
   "outputs": [],
   "source": [
    "n = 6\n",
    "q = linspace(0,1,n)"
   ]
  },
  {
   "cell_type": "markdown",
   "metadata": {},
   "source": [
    "We construct a list of Polynomial objects. Each of the entries will correspond to the $l_i(x)$ basis functions associated to $x_i$ stored in the array `q`."
   ]
  },
  {
   "cell_type": "markdown",
   "metadata": {},
   "source": [
    "The following two code lines can seem cryptic at a first glance. In programming idiom they are called *one-liners*, they perform non trivial tasks on a single line. Here we write in explicit form each command unit, hoping that the reader will appreciate the one to one relationship, in between mathematical formulation and python syntax.\n",
    "\n",
    "First, we initialize the list of basis functions:\n",
    "```\n",
    "L = [].\n",
    "```\n",
    "We will need to populate it, with the basis functions that range from $0$ to $n$. \n",
    "$$L = \\{l_i(x)\\}_{i=0}^{n-1}$$\n",
    "\n",
    "$$\n",
    "\\begin{array}{l c r}\n",
    "\\mathtt{L\\ =\\ [}\\ l_i(x) & \\quad \\forall i = 0\\ldots n-1 & \\mathtt{]} \\\\\n",
    "\\mathtt{L\\ =\\ [}\\ l_i(x) & \\quad \\mathtt{for\\ i\\ in \\ range(n)} & \\mathtt{]}\n",
    "\\end{array}\n",
    "$$\n",
    "\n",
    "$l_i(x)$ is the polynomial with the set of roots $\\{x_j\\}_{j=0, \\, j\\neq i}^{n-1}\\subset\\{x_i\\}_{i=0}^{n-1}$. We should have already guessed that that the mathematical symbol for a set $\\{\\cdot\\}$ translates to python syntax for a list `[]`, then:\n",
    "\n",
    "\n",
    "$$\n",
    "\\begin{array}{l l l}\n",
    "\\mathtt{[}x_j,& \\quad \\forall x_j\\ \\in \\{x_i\\}_{i=0}^{n-1},  & \\mathrm{if}\\ j\\neq i \\mathtt{]} \\\\\n",
    "\\mathtt{[}x_j,& \\quad \\mathrm{for}\\ x_j\\ \\mathrm{in}\\ \\mathtt{q}\\ & \\mathtt{if}\\ x_j\\neq x_i \\mathtt{]}\\\\\n",
    "\\mathtt{[xj}& \\quad \\mathrm{for}\\ \\mathtt{xj}\\ \\mathrm{in}\\ \\mathtt{q}\\ & \\mathtt{if}\\ \\mathtt{xj\\ !=\\ q[i]} \\mathtt{]}.\n",
    "\\end{array}\n",
    "$$\n",
    "\n",
    "Now the first *one-liner* should be clearly defined as the set of polynomials\n",
    "$$\n",
    "\\{l_i(x), \\mathrm{such\\ that}\\ l_i(\\{x_j\\}_{j=0, \\, j\\neq i}^{n-1})=0\\}_{i=0}^{n-1}\n",
    "$$"
   ]
  },
  {
   "cell_type": "code",
   "execution_count": 4,
   "metadata": {
    "collapsed": false
   },
   "outputs": [],
   "source": [
    "L = [Polynomial.fromroots([xj for xj in q if xj != q[i]]) for i in range(n)]"
   ]
  },
  {
   "cell_type": "markdown",
   "metadata": {},
   "source": [
    "The second condition we wish to impose is: $l_i(x_j)=\\delta_{ij}$. This can be seen as a rescale of the previous set:\n",
    "$$\n",
    "\\left\\{l_i(x), \\mathrm{such\\ that}\\ l_i(x) = \\frac{l_i(x)}{l_i(x_i)} \\right\\}_{i=0}^{n-1}\n",
    "$$"
   ]
  },
  {
   "cell_type": "code",
   "execution_count": 5,
   "metadata": {
    "collapsed": true
   },
   "outputs": [],
   "source": [
    "L = [L[i]/L[i](q[i]) for i in range(n)]"
   ]
  },
  {
   "cell_type": "code",
   "execution_count": 6,
   "metadata": {
    "collapsed": false
   },
   "outputs": [
    {
     "name": "stdout",
     "output_type": "stream",
     "text": [
      "poly([  1.         -11.41666667  46.875      -88.54166667  78.125      -26.04166667])\n"
     ]
    }
   ],
   "source": [
    "type(L[0])\n",
    "print(L[0])"
   ]
  },
  {
   "cell_type": "code",
   "execution_count": 7,
   "metadata": {
    "collapsed": false
   },
   "outputs": [
    {
     "data": {
      "text/plain": [
       "[<matplotlib.lines.Line2D at 0x7f5c5c223ed0>]"
      ]
     },
     "execution_count": 7,
     "metadata": {},
     "output_type": "execute_result"
    },
    {
     "data": {
      "image/png": "[encoded data removed]",
      "text/plain": [
       "<matplotlib.figure.Figure at 0x7f5c4248fd90>"
      ]
     },
     "metadata": {},
     "output_type": "display_data"
    }
   ],
   "source": [
    "x = linspace(0,1,1025)\n",
    "for f in L:\n",
    "    plot(x, f(x))\n",
    "plot(q, 0*q, 'ro')"
   ]
  },
  {
   "cell_type": "markdown",
   "metadata": {},
   "source": [
    "# Poisson's Problem\n",
    "\n",
    "Approximating an unknown function $u(s)$ with its discrete representation $u_h(s)$, is a powerful strategy in solving PDEs. Number of physical problems can be modeled building on the Poisson's problem:\n",
    "\n",
    "\n",
    "Find $u(s) \\in C^2([0,1])$ s.t.\n",
    "$$\n",
    "-u''(s) = f(s)\\ \\mathrm{in}\\  [0,1]\n",
    "$$\n",
    "\n",
    "$$\n",
    "u(0) = 0, \\quad u'(1) = 1.\n",
    "$$\n",
    "\n",
    "Finding a solution $u(s)$ might seem to ambitious. This is why we lower our expetctations and construct a discrete solution as a linear combination of known basis functions, $u_h(s) :=  u^i l_i(s)$. The original problem can be rewritten:\n",
    "\n",
    "Find $u_h(s) :=  u^i l_i(s)$ s.t.\n",
    "\n",
    "$$\n",
    "-u_h''(s) = f(s)\\ \\mathrm{ in }\\ [0,1]\n",
    "$$\n",
    "\n",
    "$$\n",
    "u_h(0) = 0, \\quad u_h'(1) = 1\n",
    "$$\n",
    "\n",
    "\"Just plug $h$ everywhere!\" F. Brezzi."
   ]
  },
  {
   "cell_type": "markdown",
   "metadata": {},
   "source": [
    "Before proceeding, we notice that first and second derivatives are involved in our problem. It sounds then a good to prepare two lists storing these informations:"
   ]
  },
  {
   "cell_type": "code",
   "execution_count": 8,
   "metadata": {
    "collapsed": false
   },
   "outputs": [
    {
     "data": {
      "image/png": "[encoded data removed]",
      "text/plain": [
       "<matplotlib.figure.Figure at 0x7f5c423e8c90>"
      ]
     },
     "metadata": {},
     "output_type": "display_data"
    },
    {
     "data": {
      "image/png": "[encoded data removed]",
      "text/plain": [
       "<matplotlib.figure.Figure at 0x7f5c42267b50>"
      ]
     },
     "metadata": {},
     "output_type": "display_data"
    }
   ],
   "source": [
    "L_prime = [L[i].deriv() for i in range(n)]\n",
    "L_prime_prime = [L[i].deriv().deriv() for i in range(n)]\n",
    "\n",
    "for f in L_prime:\n",
    "    plot(x, f(x))\n",
    "\n",
    "show()\n",
    "\n",
    "for f in L_prime_prime:\n",
    "    plot(x, f(x))\n",
    "\n",
    "show()\n"
   ]
  },
  {
   "cell_type": "markdown",
   "metadata": {},
   "source": [
    "The continuous problem discretisation isolated the problem in finding the $n$ coefficients $u^i$.\n",
    "The first step is to focus on the condition that has to be satisfied inside the domain:\n",
    "$$\n",
    "-u_h''(s) := f(s).\n",
    "$$\n",
    "From linearity we can write: \n",
    "$$\n",
    "-u_h''(s) := -l_i''(s)\\ u^i.\n",
    "$$\n",
    "\n",
    "$$\n",
    "-l_i''(s)\\ u^i := f(s) \\quad \\forall s\\ \\mathrm{in}\\ [0,1]\\subset \\mathbb{R} \n",
    "$$\n",
    "The discrete problem is now finding the $n$ coefficients $u_i$. We notice that the last equation is true for the infinite number of values $s$. We only need $n$ choices of $s$ to close our problem. Choose $s = x_j$, for $j = 0, \\dots, n$.\n",
    "\n",
    "We get the following:\n",
    "$$\n",
    "-l_i''(x_j)\\ u^i := f(x_j) \\quad \\forall x_j\\ \\mathrm{in}\\ \\{x_j\\}_{j=0}^n.\n",
    "$$\n",
    "\n",
    "We can write the problem in matrix form:\n",
    "\n",
    "$$\n",
    "A u = b,\n",
    "$$\n",
    "\n",
    "defining\n",
    "\n",
    "$$\n",
    "A_{ij} := -l_j''(x_i) \\quad i,j = 0, \\dots, n-1\n",
    "$$\n",
    "\n",
    "and,\n",
    "\n",
    "$$\n",
    "b_i := f(x_i) \\quad i = 0, \\dots, n-1.\n",
    "$$\n",
    "\n",
    "Chosing as evaluation points those stored in the array `q`, we get:"
   ]
  },
  {
   "cell_type": "code",
   "execution_count": 9,
   "metadata": {
    "collapsed": true
   },
   "outputs": [],
   "source": [
    "A = zeros((n,n))\n",
    "for i in range(n):\n",
    "    A[:,i] = -L_prime_prime[i](q)"
   ]
  },
  {
   "cell_type": "markdown",
   "metadata": {},
   "source": [
    "### Control\n",
    "Consider, $g(x)\\in \\mathrm{span}\\{l_i(x)\\}$, and $\\{x_i\\}_{i=0}^{n-1}$. We write:\n",
    "$$\n",
    "\\left(\n",
    "\\begin{array}{c}\n",
    "u(x_0)\\\\\n",
    "u(x_1)\\\\\n",
    "\\vdots\\\\\n",
    "u(x_{n-1})\\\\\n",
    "\\end{array}\n",
    "\\right) = \n",
    "\\left(\n",
    "\\begin{array}{cccc}\n",
    "l_0(x_0) & l_1(x_0) & \\cdots & l_{n-1}(x_0) \\\\\n",
    "l_0(x_1) & l_1(x_1) & \\cdots & l_{n-1}(x_1) \\\\\n",
    "\\vdots & \\vdots & \\ddots & \\vdots \\\\\n",
    "l_0(x_{n-1}) & l_1(x_{n-1}) & \\cdots & l_{n-1}(x_{n-1}) \\\\\n",
    "\\end{array}\n",
    "\\right)\n",
    "\\left(\n",
    "\\begin{array}{c}\n",
    "u(x_0)\\\\\n",
    "u(x_1)\\\\\n",
    "\\vdots\\\\\n",
    "u(x_{n-1})\\\\\n",
    "\\end{array}\n",
    "\\right)\n",
    "$$\n",
    "Since $g(x)\\in \\mathrm{span}\\{l_i(x)\\}$, we have:\n",
    "$$\n",
    "\\left(\n",
    "\\begin{array}{c}\n",
    "u(x)\n",
    "\\end{array}\n",
    "\\right) = \n",
    "\\left(\n",
    "\\begin{array}{cccc}\n",
    "l_0(x) & l_1(x) & \\cdots & l_{n-1}(x) \n",
    "\\end{array}\n",
    "\\right)\n",
    "\\left(\n",
    "\\begin{array}{c}\n",
    "u(x_0)\\\\\n",
    "u(x_1)\\\\\n",
    "\\vdots\\\\\n",
    "u(x_{n-1})\\\\\n",
    "\\end{array}\n",
    "\\right)\n",
    "$$\n",
    "We can write $u''(x)$ as:\n",
    "$$\n",
    "\\left(\n",
    "\\begin{array}{c}\n",
    "u''(x)\n",
    "\\end{array}\n",
    "\\right) = \n",
    "\\left(\n",
    "\\begin{array}{cccc}\n",
    "l''_0(x) & l''_1(x) & \\cdots & l''_{n-1}(x) \n",
    "\\end{array}\n",
    "\\right)\n",
    "\\left(\n",
    "\\begin{array}{c}\n",
    "u(x_0)\\\\\n",
    "u(x_1)\\\\\n",
    "\\vdots\\\\\n",
    "u(x_{n-1})\\\\\n",
    "\\end{array}\n",
    "\\right)\n",
    "$$\n",
    "If we specify again the exaluation points $\\{x_i\\}_{i=0}^{n-1}$:\n",
    "$$\n",
    "\\left(\n",
    "\\begin{array}{c}\n",
    "u''(x_0)\\\\\n",
    "u''(x_1)\\\\\n",
    "\\vdots\\\\\n",
    "u''(x_{n-1})\\\\\n",
    "\\end{array}\n",
    "\\right) = \n",
    "\\left(\n",
    "\\begin{array}{cccc}\n",
    "l''_0(x_0) & l''_1(x_0) & \\cdots & l''_{n-1}(x_0) \\\\\n",
    "l''_0(x_1) & l''_1(x_1) & \\cdots & l''_{n-1}(x_1) \\\\\n",
    "\\vdots & \\vdots & \\ddots & \\vdots \\\\\n",
    "l''_0(x_{n-1}) & l''_1(x_{n-1}) & \\cdots & l''_{n-1}(x_{n-1}) \\\\\n",
    "\\end{array}\n",
    "\\right)\n",
    "\\left(\n",
    "\\begin{array}{c}\n",
    "u(x_0)\\\\\n",
    "u(x_1)\\\\\n",
    "\\vdots\\\\\n",
    "u(x_{n-1})\\\\\n",
    "\\end{array}\n",
    "\\right)\n",
    "$$\n",
    "This is a good way to control whether we assembled correctely $A_{ij}$:\n",
    "$$\n",
    "u''(x_i) = A_{ij} u(x_j)\\quad j = 0, 1, \\ldots, n-1\n",
    "$$"
   ]
  },
  {
   "cell_type": "code",
   "execution_count": 10,
   "metadata": {
    "collapsed": false
   },
   "outputs": [
    {
     "data": {
      "text/plain": [
       "array([-2., -2., -2., -2., -2., -2.])"
      ]
     },
     "execution_count": 10,
     "metadata": {},
     "output_type": "execute_result"
    }
   ],
   "source": [
    "g = q**2\n",
    "A.dot(g)"
   ]
  },
  {
   "cell_type": "markdown",
   "metadata": {},
   "source": [
    "It is interesting controlling the condition number of our matrix $A$"
   ]
  },
  {
   "cell_type": "code",
   "execution_count": 11,
   "metadata": {
    "collapsed": false
   },
   "outputs": [
    {
     "data": {
      "text/plain": [
       "29621719097768976.0"
      ]
     },
     "execution_count": 11,
     "metadata": {},
     "output_type": "execute_result"
    }
   ],
   "source": [
    "from numpy.linalg import cond\n",
    "cond(A)"
   ]
  },
  {
   "cell_type": "markdown",
   "metadata": {},
   "source": [
    "The number we obtain is extremely high, meaning the matrix, as it is, is not a good condate to be resolved."
   ]
  },
  {
   "cell_type": "markdown",
   "metadata": {},
   "source": [
    "We write the following two arrays:\n",
    "$$\n",
    "\\mathtt{bc0} = \\{l_i(0)\\}_{i=0}^{n-1}\n",
    "$$\n",
    "$$\n",
    "\\mathtt{bc1} = \\{l_i'(1)\\}_{i=0}^{n-1}\n",
    "$$"
   ]
  },
  {
   "cell_type": "code",
   "execution_count": 12,
   "metadata": {
    "collapsed": true
   },
   "outputs": [],
   "source": [
    "bc0 = array([L[i](0) for i in range(n)])\n",
    "bc1 = array([L_prime[i](1) for i in range(n)])"
   ]
  },
  {
   "cell_type": "markdown",
   "metadata": {},
   "source": [
    "As these array refer to the first, and last evaluation point, it is coherent to substitute the first and last rows of $A$. The condition number will be much more reasonable."
   ]
  },
  {
   "cell_type": "code",
   "execution_count": 13,
   "metadata": {
    "collapsed": false
   },
   "outputs": [],
   "source": [
    "A[0,:] = bc0\n",
    "A[-1] = bc1"
   ]
  },
  {
   "cell_type": "code",
   "execution_count": 14,
   "metadata": {
    "collapsed": false
   },
   "outputs": [
    {
     "data": {
      "text/plain": [
       "326.43605179356661"
      ]
     },
     "execution_count": 14,
     "metadata": {},
     "output_type": "execute_result"
    }
   ],
   "source": [
    "cond(A)"
   ]
  },
  {
   "cell_type": "markdown",
   "metadata": {},
   "source": [
    "The right hand side of our system will be the simple evaluation of $f(s)$, that we will fix as $f(s) = 4\\pi^2\\sin(2\\pi\\ q)$"
   ]
  },
  {
   "cell_type": "code",
   "execution_count": 15,
   "metadata": {
    "collapsed": false
   },
   "outputs": [],
   "source": [
    "rhs = 4*pi**2*sin(2*pi*q)"
   ]
  },
  {
   "cell_type": "markdown",
   "metadata": {},
   "source": [
    "The boundary conditions will be matched setting:\n",
    "$$\n",
    "\\mathtt{bc0} = \\{l_i(0)\\}_{i=0}^{n-1} = \\mathtt{rhs[0]} = 0\n",
    "$$\n",
    "$$\n",
    "\\mathtt{bc1} = \\{l_i'(1)\\}_{i=0}^{n-1} = \\mathtt{rhs[n]} = 1\n",
    "$$"
   ]
  },
  {
   "cell_type": "code",
   "execution_count": 16,
   "metadata": {
    "collapsed": true
   },
   "outputs": [],
   "source": [
    "rhs[0] = 0\n",
    "rhs[-1] =  1"
   ]
  },
  {
   "cell_type": "code",
   "execution_count": 17,
   "metadata": {
    "collapsed": true
   },
   "outputs": [],
   "source": [
    "u = solve(A, rhs)"
   ]
  },
  {
   "cell_type": "code",
   "execution_count": 18,
   "metadata": {
    "collapsed": false
   },
   "outputs": [
    {
     "data": {
      "text/plain": [
       "[<matplotlib.lines.Line2D at 0x7f5c42232990>]"
      ]
     },
     "execution_count": 18,
     "metadata": {},
     "output_type": "execute_result"
    },
    {
     "data": {
      "image/png": "[encoded data removed]",
      "text/plain": [
       "<matplotlib.figure.Figure at 0x7f5c5c235410>"
      ]
     },
     "metadata": {},
     "output_type": "display_data"
    }
   ],
   "source": [
    "Lu = sum([L[i]*u[i] for i in range(n)])\n",
    "Lsin = sum([L[i]*sin(2*pi*q[i]) for i in range(n)])\n",
    "\n",
    "plot(x, Lu(x))"
   ]
  },
  {
   "cell_type": "markdown",
   "metadata": {
    "collapsed": true
   },
   "source": [
    "Suggested exercises:\n",
    "\n",
    " - Choose a *manufactured* solution $u(s)$, set $f(s) = -u''(s)$ and solve again the problem. Choose boundary conditions in manner that will fit your solution.\n",
    " - Compare the condition number for $A$ evaluated at equispaced points and Chebyshev nodes.\n",
    " - Plot in the same figure $||u-u_h||_\\infty$ for both equispaced and Chebyshev nodes increasing values of $n$."
   ]
  },
  {
   "cell_type": "code",
   "execution_count": null,
   "metadata": {
    "collapsed": true
   },
   "outputs": [],
   "source": []
  }
 ],
 "metadata": {
  "kernelspec": {
   "display_name": "Python 2",
   "language": "python",
   "name": "python2"
  },
  "language_info": {
   "codemirror_mode": {
    "name": "ipython",
    "version": 2
   },
   "file_extension": ".py",
   "mimetype": "text/x-python",
   "name": "python",
   "nbconvert_exporter": "python",
   "pygments_lexer": "ipython2",
   "version": "2.7.6"
  }
 },
 "nbformat": 4,
 "nbformat_minor": 0
}
