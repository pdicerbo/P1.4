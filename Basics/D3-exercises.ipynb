{
 "cells": [
  {
   "cell_type": "code",
   "execution_count": 1,
   "metadata": {
    "collapsed": false
   },
   "outputs": [
    {
     "name": "stdout",
     "output_type": "stream",
     "text": [
      "Populating the interactive namespace from numpy and matplotlib\n"
     ]
    }
   ],
   "source": [
    "%pylab inline\n",
    "from numpy.testing import *"
   ]
  },
  {
   "cell_type": "markdown",
   "metadata": {},
   "source": [
    "Write a function that given the size $n$ generates the lower triangular matrix $L$, such that:\n",
    "$$\n",
    "L_{ij} = i+j+1\\ \\quad\\ \\mathrm{if}\\ j\\leq i\\mathrm{, wih}\\ i = 0 \\ldots n-1\n",
    "$$\n",
    "\n",
    "*Encouragement:* try to write a *one-liner* that generates the matrix. To do that focus first on the $i$-th line of the matrix. Think about it as the composition of two lists `[...]+[...]`. The first one is composed by `i+j+1` where `j` ranges from `0` to `i+1`. The second one is a list of zeros ranging from `i+1` to `n`."
   ]
  },
  {
   "cell_type": "code",
   "execution_count": 2,
   "metadata": {
    "collapsed": false,
    "deletable": false,
    "nbgrader": {
     "checksum": "70bb43047ada373d93b82e6bf9684564",
     "grade": false,
     "grade_id": "lower_tri_0",
     "locked": false,
     "solution": true
    }
   },
   "outputs": [
    {
     "name": "stdout",
     "output_type": "stream",
     "text": [
      "[[ 1.  0.  0.  0.]\n",
      " [ 2.  3.  0.  0.]\n",
      " [ 3.  4.  5.  0.]\n",
      " [ 4.  5.  6.  7.]]\n"
     ]
    }
   ],
   "source": [
    "def lower_tri_matrix(n):\n",
    "    return matrix([append(arange(i+1,2*i+2), zeros(n-i-1)) for i in range(n)])\n",
    "bb = lower_tri_matrix(4)\n",
    "print(bb)"
   ]
  },
  {
   "cell_type": "code",
   "execution_count": 3,
   "metadata": {
    "collapsed": false,
    "deletable": false,
    "nbgrader": {
     "checksum": "8c58384376095a19346de14b8326b5a6",
     "grade": true,
     "grade_id": "lower_tri_0_test",
     "locked": true,
     "points": 2,
     "solution": false
    }
   },
   "outputs": [],
   "source": [
    "assert_equal(type(lower_tri_matrix(3)),numpy.matrixlib.defmatrix.matrix)\n",
    "assert_equal(lower_tri_matrix(5),[[1,0,0,0,0],[2,3,0,0,0],[3,4,5,0,0],[4,5,6,7,0],[5,6,7,8,9]])"
   ]
  },
  {
   "cell_type": "markdown",
   "metadata": {},
   "source": [
    "Write a function that solves a lower triangular linear system:\n",
    "$$\n",
    "L x = b\n",
    "$$\n",
    "Reminder:\n",
    "$$\n",
    "x_i = \\frac{1}{L_{ii}}\\left(b_i - \\sum_{j=0}^{i-1} L_{ij}\\, x_j\\right)\n",
    "$$"
   ]
  },
  {
   "cell_type": "code",
   "execution_count": 4,
   "metadata": {
    "collapsed": false,
    "deletable": false,
    "nbgrader": {
     "checksum": "2337e08a4083e78934e20e79c550d98a",
     "grade": false,
     "grade_id": "lower_tri_1",
     "locked": false,
     "solution": true
    }
   },
   "outputs": [],
   "source": [
    "def forward_substitutions(L,b):\n",
    "    x = zeros(len(b))\n",
    "    for i in range(len(b)):\n",
    "        x[i] = (b[i] - einsum('ij,j', L, x)[i]) / L[i, i]\n",
    "    return x"
   ]
  },
  {
   "cell_type": "code",
   "execution_count": 5,
   "metadata": {
    "collapsed": false,
    "deletable": false,
    "nbgrader": {
     "checksum": "65771de0ee795acdcafd1b937e046fc8",
     "grade": true,
     "grade_id": "lower_tri_1_test",
     "locked": true,
     "points": 2,
     "solution": false
    }
   },
   "outputs": [],
   "source": [
    "L = lower_tri_matrix(5)\n",
    "b = ones(5)\n",
    "assert_almost_equal(forward_substitutions(L,b),solve(L,b),decimal=14)"
   ]
  },
  {
   "cell_type": "markdown",
   "metadata": {},
   "source": [
    "Write a function that given the size $n$ generates the upper triangular matrix $U$, such that:\n",
    "$$\n",
    "U_{ij} = i+j+1\\ \\quad\\ \\mathrm{if}\\ j\\geq i\\mathrm{, wih}\\ i = 0 \\ldots n-1\n",
    "$$\n",
    "\n",
    "*Encouragement:* try to write a *one-liner* that generates the matrix."
   ]
  },
  {
   "cell_type": "code",
   "execution_count": 6,
   "metadata": {
    "collapsed": false,
    "deletable": false,
    "nbgrader": {
     "checksum": "5f3a1317cabe7c68613bbca0d2ab5593",
     "grade": false,
     "grade_id": "upper_tri_0",
     "locked": false,
     "solution": true
    }
   },
   "outputs": [],
   "source": [
    "def upper_tri_matrix(n):\n",
    "    return matrix([append(zeros(i), arange(2*i+1,n + i + 1)) for i in range(n)])"
   ]
  },
  {
   "cell_type": "code",
   "execution_count": 7,
   "metadata": {
    "collapsed": false,
    "deletable": false,
    "nbgrader": {
     "checksum": "db81d2ab442a0d05bbbb1ca7266ef99a",
     "grade": true,
     "grade_id": "upper_tri_0_test",
     "locked": true,
     "points": 2,
     "solution": false
    }
   },
   "outputs": [],
   "source": [
    "assert_equal(upper_tri_matrix(5),[[1,2,3,4,5],[0,3,4,5,6],[0,0,5,6,7],[0,0,0,7,8],[0,0,0,0,9]])"
   ]
  },
  {
   "cell_type": "markdown",
   "metadata": {},
   "source": [
    "Write a function that solves a upper triangular linear system:\n",
    "$$\n",
    "U x = b\n",
    "$$\n",
    "Reminder:\n",
    "$$\n",
    "x_i = \\frac{1}{U_{ii}}\\left(b_i - \\sum_{j=i}^{n-1} U_{ij}\\, x_j\\right)\n",
    "$$"
   ]
  },
  {
   "cell_type": "code",
   "execution_count": 8,
   "metadata": {
    "collapsed": false,
    "deletable": false,
    "nbgrader": {
     "checksum": "9ba4709b164f2a3b193fbb4e80f01f59",
     "grade": false,
     "grade_id": "upper_tri_1",
     "locked": false,
     "solution": true
    }
   },
   "outputs": [],
   "source": [
    "def backward_substitutions(U,b):\n",
    "    x = zeros(len(b))\n",
    "    for i in reversed(range(len(b))):\n",
    "        x[i] = (b[i] - einsum('ij,j', U, x)[i]) / U[i, i]\n",
    "    return x"
   ]
  },
  {
   "cell_type": "code",
   "execution_count": 9,
   "metadata": {
    "collapsed": false,
    "deletable": false,
    "nbgrader": {
     "checksum": "4e15773c45e8f37b05d6baae385e60c0",
     "grade": true,
     "grade_id": "upper_tri_1_tests",
     "locked": true,
     "points": 2,
     "solution": false
    }
   },
   "outputs": [],
   "source": [
    "U = upper_tri_matrix(5)\n",
    "b = ones(5)\n",
    "assert_almost_equal(backward_substitutions(U,b),solve(U,b),decimal=14)"
   ]
  },
  {
   "cell_type": "markdown",
   "metadata": {},
   "source": [
    "Write a function that performs the $LU$ factorisation of a given matrix $A$.\n",
    "\n",
    "### Algorithm, Gaussian Elimination without pivoting, hints:\n",
    "Set:\n",
    "$$\n",
    "U = A, \\quad L = I.\n",
    "$$\n",
    "Choosing appropriate indexing:\n",
    "$$\n",
    "l_{ik} = \\frac{u_{ik}}{u_{kk}}\\\\\n",
    "u_{j,k:m} = u_{j,k:m} - l_{jk}\\cdot u_{m,k:m}\n",
    "$$\n"
   ]
  },
  {
   "cell_type": "code",
   "execution_count": 26,
   "metadata": {
    "collapsed": false,
    "deletable": false,
    "nbgrader": {
     "checksum": "69ea86ce3e8b59780ccc03671bcc1041",
     "grade": false,
     "grade_id": "lu_0",
     "locked": false,
     "solution": true
    }
   },
   "outputs": [
    {
     "name": "stdout",
     "output_type": "stream",
     "text": [
      "[[ 1.          0.          0.          0.          0.        ]\n",
      " [ 6.07094824  1.          0.          0.          0.        ]\n",
      " [ 7.8678098   1.19389733  1.          0.          0.        ]\n",
      " [ 5.51348849  0.69913192 -1.34634757  1.          0.        ]\n",
      " [ 0.99859861 -2.1887442   8.52452094  0.3349631   1.        ]] [[ 0.09183257  0.0464986   0.20377476  0.12623684  0.83293456]\n",
      " [ 0.         -0.26073122 -0.65790923 -0.26693208 -4.09353669]\n",
      " [ 0.          0.         -0.16550727 -0.04897749 -1.34697117]\n",
      " [ 0.          0.          0.          0.13247981 -3.31718501]\n",
      " [ 0.          0.          0.          0.          3.04807565]]\n"
     ]
    }
   ],
   "source": [
    "def lu_factorization(A):\n",
    "    U = copy(A)\n",
    "    N = A.shape[0]\n",
    "    L = identity(N)\n",
    "    for i in range(0, N):\n",
    "        for j in range(i, N-1):\n",
    "            L[j+1, i] = U[j+1, i] / U[i, i]\n",
    "            U[j+1, i] = 0.\n",
    "        \n",
    "    #print(L)\n",
    "        for k in range(i+1, N):\n",
    "            for j in range(i+1, N):\n",
    "                U[k, j] -= L[k,i] * U[i, j]\n",
    "    return L, U\n",
    "                \n",
    "AAA = random.rand(5,5)\n",
    "#print(AAA)\n",
    "L, U = lu_factorization(AAA)\n",
    "print(L, U)"
   ]
  },
  {
   "cell_type": "code",
   "execution_count": 27,
   "metadata": {
    "collapsed": false,
    "deletable": false,
    "nbgrader": {
     "checksum": "8c2b3dafbaed42e739400ff39d4b7ee2",
     "grade": true,
     "grade_id": "lu_0_tests",
     "locked": true,
     "points": 2,
     "solution": false
    }
   },
   "outputs": [],
   "source": [
    "A = random.rand(5,5)\n",
    "L,U = lu_factorization(A)\n",
    "assert_almost_equal(amax(A - L.dot(U)),0,decimal=14)"
   ]
  },
  {
   "cell_type": "markdown",
   "metadata": {},
   "source": [
    "Write a function to solve the linear system $A\\,x=b$, via $LU$ factorization."
   ]
  },
  {
   "cell_type": "code",
   "execution_count": null,
   "metadata": {
    "collapsed": true,
    "deletable": false,
    "nbgrader": {
     "checksum": "4b415ae1522335ef179ac32e4c859b90",
     "grade": false,
     "grade_id": "lu_1",
     "locked": false,
     "solution": true
    }
   },
   "outputs": [],
   "source": [
    "def lu_solve(A,b):\n",
    "    # YOUR CODE HERE\n",
    "    raise NotImplementedError()"
   ]
  },
  {
   "cell_type": "code",
   "execution_count": null,
   "metadata": {
    "collapsed": true,
    "deletable": false,
    "nbgrader": {
     "checksum": "a84efd29e37ac27061cf48338f085bcb",
     "grade": true,
     "grade_id": "lu_1_tests",
     "locked": true,
     "points": 2,
     "solution": false
    }
   },
   "outputs": [],
   "source": [
    "A = random.rand(5,5)\n",
    "b = ones((5,))\n",
    "assert_almost_equal(lu_solve(A,b),solve(A,b),decimal=14)"
   ]
  }
 ],
 "metadata": {
  "kernelspec": {
   "display_name": "Python 3",
   "language": "python",
   "name": "python3"
  },
  "language_info": {
   "codemirror_mode": {
    "name": "ipython",
    "version": 3
   },
   "file_extension": ".py",
   "mimetype": "text/x-python",
   "name": "python",
   "nbconvert_exporter": "python",
   "pygments_lexer": "ipython3",
   "version": "3.5.0"
  }
 },
 "nbformat": 4,
 "nbformat_minor": 0
}
