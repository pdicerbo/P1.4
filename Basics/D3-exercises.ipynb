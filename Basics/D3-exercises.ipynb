{
 "cells": [
  {
   "cell_type": "code",
   "execution_count": 1,
   "metadata": {
    "collapsed": false
   },
   "outputs": [
    {
     "name": "stdout",
     "output_type": "stream",
     "text": [
      "Populating the interactive namespace from numpy and matplotlib\n"
     ]
    }
   ],
   "source": [
    "%pylab inline\n",
    "from numpy.testing import *"
   ]
  },
  {
   "cell_type": "markdown",
   "metadata": {},
   "source": [
    "Write a function that given the size $n$ generates the lower triangular matrix $L$, such that:\n",
    "$$\n",
    "L_{ij} = i+j+1\\ \\quad\\ \\mathrm{if}\\ j\\leq i\\mathrm{, wih}\\ i = 0 \\ldots n-1\n",
    "$$\n",
    "\n",
    "*Encouragement:* try to write a *one-liner* that generates the matrix. To do that focus first on the $i$-th line of the matrix. Think about it as the composition of two lists `[...]+[...]`. The first one is composed by `i+j+1` where `j` ranges from `0` to `i+1`. The second one is a list of zeros ranging from `i+1` to `n`."
   ]
  },
  {
   "cell_type": "code",
   "execution_count": 2,
   "metadata": {
    "collapsed": false,
    "deletable": false,
    "nbgrader": {
     "checksum": "70bb43047ada373d93b82e6bf9684564",
     "grade": false,
     "grade_id": "lower_tri_0",
     "locked": false,
     "solution": true
    }
   },
   "outputs": [
    {
     "name": "stdout",
     "output_type": "stream",
     "text": [
      "[[ 1.  0.  0.  0.]\n",
      " [ 2.  3.  0.  0.]\n",
      " [ 3.  4.  5.  0.]\n",
      " [ 4.  5.  6.  7.]]\n"
     ]
    }
   ],
   "source": [
    "def lower_tri_matrix(n):\n",
    "    return matrix([append(arange(i+1,2*i+2), zeros(n-i-1)) for i in range(n)])\n",
    "bb = lower_tri_matrix(4)\n",
    "print(bb)"
   ]
  },
  {
   "cell_type": "code",
   "execution_count": 3,
   "metadata": {
    "collapsed": false,
    "deletable": false,
    "nbgrader": {
     "checksum": "8c58384376095a19346de14b8326b5a6",
     "grade": true,
     "grade_id": "lower_tri_0_test",
     "locked": true,
     "points": 2,
     "solution": false
    }
   },
   "outputs": [],
   "source": [
    "assert_equal(type(lower_tri_matrix(3)),numpy.matrixlib.defmatrix.matrix)\n",
    "assert_equal(lower_tri_matrix(5),[[1,0,0,0,0],[2,3,0,0,0],[3,4,5,0,0],[4,5,6,7,0],[5,6,7,8,9]])"
   ]
  },
  {
   "cell_type": "markdown",
   "metadata": {},
   "source": [
    "Write a function that solves a lower triangular linear system:\n",
    "$$\n",
    "L x = b\n",
    "$$\n",
    "Reminder:\n",
    "$$\n",
    "x_i = \\frac{1}{L_{ii}}\\left(b_i - \\sum_{j=0}^{i-1} L_{ij}\\, x_j\\right)\n",
    "$$"
   ]
  },
  {
   "cell_type": "code",
   "execution_count": 4,
   "metadata": {
    "collapsed": false,
    "deletable": false,
    "nbgrader": {
     "checksum": "2337e08a4083e78934e20e79c550d98a",
     "grade": false,
     "grade_id": "lower_tri_1",
     "locked": false,
     "solution": true
    }
   },
   "outputs": [],
   "source": [
    "def forward_substitutions(L,b):\n",
    "    x = zeros(len(b))\n",
    "    for i in range(len(b)):\n",
    "        x[i] = (b[i] - einsum('ij,j', L, x)[i]) / L[i, i]\n",
    "    return x"
   ]
  },
  {
   "cell_type": "code",
   "execution_count": 5,
   "metadata": {
    "collapsed": false,
    "deletable": false,
    "nbgrader": {
     "checksum": "65771de0ee795acdcafd1b937e046fc8",
     "grade": true,
     "grade_id": "lower_tri_1_test",
     "locked": true,
     "points": 2,
     "solution": false
    }
   },
   "outputs": [],
   "source": [
    "L = lower_tri_matrix(5)\n",
    "b = ones(5)\n",
    "assert_almost_equal(forward_substitutions(L,b),solve(L,b),decimal=14)"
   ]
  },
  {
   "cell_type": "markdown",
   "metadata": {},
   "source": [
    "Write a function that given the size $n$ generates the upper triangular matrix $U$, such that:\n",
    "$$\n",
    "U_{ij} = i+j+1\\ \\quad\\ \\mathrm{if}\\ j\\geq i\\mathrm{, wih}\\ i = 0 \\ldots n-1\n",
    "$$\n",
    "\n",
    "*Encouragement:* try to write a *one-liner* that generates the matrix."
   ]
  },
  {
   "cell_type": "code",
   "execution_count": 6,
   "metadata": {
    "collapsed": false,
    "deletable": false,
    "nbgrader": {
     "checksum": "5f3a1317cabe7c68613bbca0d2ab5593",
     "grade": false,
     "grade_id": "upper_tri_0",
     "locked": false,
     "solution": true
    }
   },
   "outputs": [],
   "source": [
    "def upper_tri_matrix(n):\n",
    "    return matrix([append(zeros(i), arange(2*i+1,n + i + 1)) for i in range(n)])"
   ]
  },
  {
   "cell_type": "code",
   "execution_count": 7,
   "metadata": {
    "collapsed": false,
    "deletable": false,
    "nbgrader": {
     "checksum": "db81d2ab442a0d05bbbb1ca7266ef99a",
     "grade": true,
     "grade_id": "upper_tri_0_test",
     "locked": true,
     "points": 2,
     "solution": false
    }
   },
   "outputs": [],
   "source": [
    "assert_equal(upper_tri_matrix(5),[[1,2,3,4,5],[0,3,4,5,6],[0,0,5,6,7],[0,0,0,7,8],[0,0,0,0,9]])"
   ]
  },
  {
   "cell_type": "markdown",
   "metadata": {},
   "source": [
    "Write a function that solves a upper triangular linear system:\n",
    "$$\n",
    "U x = b\n",
    "$$\n",
    "Reminder:\n",
    "$$\n",
    "x_i = \\frac{1}{U_{ii}}\\left(b_i - \\sum_{j=i}^{n-1} U_{ij}\\, x_j\\right)\n",
    "$$"
   ]
  },
  {
   "cell_type": "code",
   "execution_count": 8,
   "metadata": {
    "collapsed": false,
    "deletable": false,
    "nbgrader": {
     "checksum": "9ba4709b164f2a3b193fbb4e80f01f59",
     "grade": false,
     "grade_id": "upper_tri_1",
     "locked": false,
     "solution": true
    }
   },
   "outputs": [],
   "source": [
    "def backward_substitutions(U,b):\n",
    "    x = zeros(len(b))\n",
    "    for i in reversed(range(len(b))):\n",
    "        x[i] = (b[i] - einsum('ij,j', U, x)[i]) / U[i, i]\n",
    "    return x"
   ]
  },
  {
   "cell_type": "code",
   "execution_count": 9,
   "metadata": {
    "collapsed": false,
    "deletable": false,
    "nbgrader": {
     "checksum": "4e15773c45e8f37b05d6baae385e60c0",
     "grade": true,
     "grade_id": "upper_tri_1_tests",
     "locked": true,
     "points": 2,
     "solution": false
    }
   },
   "outputs": [],
   "source": [
    "U = upper_tri_matrix(5)\n",
    "b = ones(5)\n",
    "assert_almost_equal(backward_substitutions(U,b),solve(U,b),decimal=14)"
   ]
  },
  {
   "cell_type": "markdown",
   "metadata": {},
   "source": [
    "Write a function that performs the $LU$ factorisation of a given matrix $A$.\n",
    "\n",
    "### Algorithm, Gaussian Elimination without pivoting, hints:\n",
    "Set:\n",
    "$$\n",
    "U = A, \\quad L = I.\n",
    "$$\n",
    "Choosing appropriate indexing:\n",
    "$$\n",
    "l_{ik} = \\frac{u_{ik}}{u_{kk}}\\\\\n",
    "u_{j,k:m} = u_{j,k:m} - l_{jk}\\cdot u_{m,k:m}\n",
    "$$\n"
   ]
  },
  {
   "cell_type": "code",
   "execution_count": 23,
   "metadata": {
    "collapsed": false,
    "deletable": false,
    "nbgrader": {
     "checksum": "69ea86ce3e8b59780ccc03671bcc1041",
     "grade": false,
     "grade_id": "lu_0",
     "locked": false,
     "solution": true
    }
   },
   "outputs": [
    {
     "name": "stdout",
     "output_type": "stream",
     "text": [
      "0.726077988198 0.726077988198\n",
      "[[ 0.86855855  0.43313139  0.98389694  0.14373588  0.14797892]\n",
      " [ 0.          0.          0.22615293  0.10951776  0.51855421]\n",
      " [ 0.          0.48572642  0.90975271  0.15474786  0.04171082]\n",
      " [ 0.          0.33119027  0.2324377   0.12714624  0.83576471]\n",
      " [ 0.          0.27740425  0.06431037  0.64207041  0.09273298]]\n",
      "0.22615292832 0.22615292832\n",
      "[[ 0.86855855  0.43313139  0.98389694  0.14373588  0.14797892]\n",
      " [ 0.          0.          0.          0.10951776  0.51855421]\n",
      " [ 0.          0.48572642  0.90975271  0.15474786  0.04171082]\n",
      " [ 0.          0.33119027  0.2324377   0.12714624  0.83576471]\n",
      " [ 0.          0.27740425  0.06431037  0.64207041  0.09273298]]\n",
      "0.109517763942 0.109517763942\n",
      "[[ 0.86855855  0.43313139  0.98389694  0.14373588  0.14797892]\n",
      " [ 0.          0.          0.          0.          0.51855421]\n",
      " [ 0.          0.48572642  0.90975271  0.15474786  0.04171082]\n",
      " [ 0.          0.33119027  0.2324377   0.12714624  0.83576471]\n",
      " [ 0.          0.27740425  0.06431037  0.64207041  0.09273298]]\n",
      "0.518554206696 0.518554206696\n",
      "[[ 0.86855855  0.43313139  0.98389694  0.14373588  0.14797892]\n",
      " [ 0.          0.          0.          0.          0.        ]\n",
      " [ 0.          0.48572642  0.90975271  0.15474786  0.04171082]\n",
      " [ 0.          0.33119027  0.2324377   0.12714624  0.83576471]\n",
      " [ 0.          0.27740425  0.06431037  0.64207041  0.09273298]]\n",
      "0.485726416466 0.0\n",
      "[[ 0.86855855  0.43313139  0.98389694  0.14373588  0.14797892]\n",
      " [ 0.          0.          0.          0.          0.        ]\n",
      " [ 0.          0.48572642  0.90975271  0.15474786  0.04171082]\n",
      " [ 0.          0.33119027  0.2324377   0.12714624  0.83576471]\n",
      " [ 0.          0.27740425  0.06431037  0.64207041  0.09273298]]\n",
      "0.909752707661 0.0\n",
      "[[ 0.86855855  0.43313139  0.98389694  0.14373588  0.14797892]\n",
      " [ 0.          0.          0.          0.          0.        ]\n",
      " [ 0.          0.48572642  0.90975271  0.15474786  0.04171082]\n",
      " [ 0.          0.33119027  0.2324377   0.12714624  0.83576471]\n",
      " [ 0.          0.27740425  0.06431037  0.64207041  0.09273298]]\n",
      "0.154747855581 0.0\n",
      "[[ 0.86855855  0.43313139  0.98389694  0.14373588  0.14797892]\n",
      " [ 0.          0.          0.          0.          0.        ]\n",
      " [ 0.          0.48572642  0.90975271  0.15474786  0.04171082]\n",
      " [ 0.          0.33119027  0.2324377   0.12714624  0.83576471]\n",
      " [ 0.          0.27740425  0.06431037  0.64207041  0.09273298]]\n",
      "0.0417108174216 0.0\n",
      "[[ 0.86855855  0.43313139  0.98389694  0.14373588  0.14797892]\n",
      " [ 0.          0.          0.          0.          0.        ]\n",
      " [ 0.          0.48572642  0.90975271  0.15474786  0.04171082]\n",
      " [ 0.          0.33119027  0.2324377   0.12714624  0.83576471]\n",
      " [ 0.          0.27740425  0.06431037  0.64207041  0.09273298]]\n",
      "0.33119026561 0.0\n",
      "[[ 0.86855855  0.43313139  0.98389694  0.14373588  0.14797892]\n",
      " [ 0.          0.          0.          0.          0.        ]\n",
      " [ 0.          0.48572642  0.90975271  0.15474786  0.04171082]\n",
      " [ 0.          0.33119027  0.2324377   0.12714624  0.83576471]\n",
      " [ 0.          0.27740425  0.06431037  0.64207041  0.09273298]]\n",
      "0.232437701764 0.0\n",
      "[[ 0.86855855  0.43313139  0.98389694  0.14373588  0.14797892]\n",
      " [ 0.          0.          0.          0.          0.        ]\n",
      " [ 0.          0.48572642  0.90975271  0.15474786  0.04171082]\n",
      " [ 0.          0.33119027  0.2324377   0.12714624  0.83576471]\n",
      " [ 0.          0.27740425  0.06431037  0.64207041  0.09273298]]\n",
      "0.127146239916 0.0\n",
      "[[ 0.86855855  0.43313139  0.98389694  0.14373588  0.14797892]\n",
      " [ 0.          0.          0.          0.          0.        ]\n",
      " [ 0.          0.48572642  0.90975271  0.15474786  0.04171082]\n",
      " [ 0.          0.33119027  0.2324377   0.12714624  0.83576471]\n",
      " [ 0.          0.27740425  0.06431037  0.64207041  0.09273298]]\n",
      "0.835764710643 0.0\n",
      "[[ 0.86855855  0.43313139  0.98389694  0.14373588  0.14797892]\n",
      " [ 0.          0.          0.          0.          0.        ]\n",
      " [ 0.          0.48572642  0.90975271  0.15474786  0.04171082]\n",
      " [ 0.          0.33119027  0.2324377   0.12714624  0.83576471]\n",
      " [ 0.          0.27740425  0.06431037  0.64207041  0.09273298]]\n",
      "0.277404250746 0.0\n",
      "[[ 0.86855855  0.43313139  0.98389694  0.14373588  0.14797892]\n",
      " [ 0.          0.          0.          0.          0.        ]\n",
      " [ 0.          0.48572642  0.90975271  0.15474786  0.04171082]\n",
      " [ 0.          0.33119027  0.2324377   0.12714624  0.83576471]\n",
      " [ 0.          0.27740425  0.06431037  0.64207041  0.09273298]]\n",
      "0.0643103666874 0.0\n",
      "[[ 0.86855855  0.43313139  0.98389694  0.14373588  0.14797892]\n",
      " [ 0.          0.          0.          0.          0.        ]\n",
      " [ 0.          0.48572642  0.90975271  0.15474786  0.04171082]\n",
      " [ 0.          0.33119027  0.2324377   0.12714624  0.83576471]\n",
      " [ 0.          0.27740425  0.06431037  0.64207041  0.09273298]]\n",
      "0.642070407692 0.0\n",
      "[[ 0.86855855  0.43313139  0.98389694  0.14373588  0.14797892]\n",
      " [ 0.          0.          0.          0.          0.        ]\n",
      " [ 0.          0.48572642  0.90975271  0.15474786  0.04171082]\n",
      " [ 0.          0.33119027  0.2324377   0.12714624  0.83576471]\n",
      " [ 0.          0.27740425  0.06431037  0.64207041  0.09273298]]\n",
      "0.0927329819702 0.0\n",
      "[[ 0.86855855  0.43313139  0.98389694  0.14373588  0.14797892]\n",
      " [ 0.          0.          0.          0.          0.        ]\n",
      " [ 0.          0.48572642  0.90975271  0.15474786  0.04171082]\n",
      " [ 0.          0.33119027  0.2324377   0.12714624  0.83576471]\n",
      " [ 0.          0.27740425  0.06431037  0.64207041  0.09273298]]\n",
      "[[ 1.          0.          0.          0.          0.        ]\n",
      " [ 1.08955176  1.          0.          0.          0.        ]\n",
      " [ 0.29543755         inf  1.          0.          0.        ]\n",
      " [ 0.21811661         inf         inf  1.          0.        ]\n",
      " [ 0.63528313         inf         inf         inf  1.        ]] [[ 0.86855855  0.43313139  0.98389694  0.14373588  0.14797892]\n",
      " [ 0.          0.          0.          0.          0.        ]\n",
      " [ 0.          0.          0.          0.          0.        ]\n",
      " [ 0.          0.          0.          0.          0.        ]\n",
      " [ 0.          0.          0.          0.          0.        ]]\n"
     ]
    },
    {
     "name": "stderr",
     "output_type": "stream",
     "text": [
      "/usr/lib/python3.5/site-packages/ipykernel/__main__.py:7: RuntimeWarning: divide by zero encountered in double_scalars\n"
     ]
    }
   ],
   "source": [
    "def lu_factorization(A):\n",
    "    U = copy(A)\n",
    "    N = A.shape[0]\n",
    "    L = identity(N)\n",
    "    for i in range(0, N):\n",
    "        for j in range(i, N-1):\n",
    "            L[j+1, i] = U[j+1, i] / U[i, i]\n",
    "            U[j+1, i] = 0.\n",
    "        \n",
    "    #print(L)\n",
    "        for k in range(i+1, N):\n",
    "            for j in range(i+1, N):\n",
    "                if i == 0:\n",
    "                    print(U[k, j], L[k,i+1] * U[i+1, j])\n",
    "                U[k, j] -= L[k,i+1] * U[i+1, j]\n",
    "                if i == 0:\n",
    "                    print(U)\n",
    "    return L, U\n",
    "                \n",
    "AAA = random.rand(5,5)\n",
    "#print(AAA)\n",
    "L, U = lu_factorization(AAA)\n",
    "print(L, U)"
   ]
  },
  {
   "cell_type": "code",
   "execution_count": 17,
   "metadata": {
    "collapsed": false,
    "deletable": false,
    "nbgrader": {
     "checksum": "8c2b3dafbaed42e739400ff39d4b7ee2",
     "grade": true,
     "grade_id": "lu_0_tests",
     "locked": true,
     "points": 2,
     "solution": false
    }
   },
   "outputs": [
    {
     "name": "stderr",
     "output_type": "stream",
     "text": [
      "/usr/lib/python3.5/site-packages/ipykernel/__main__.py:7: RuntimeWarning: divide by zero encountered in double_scalars\n"
     ]
    },
    {
     "ename": "TypeError",
     "evalue": "'NoneType' object is not iterable",
     "output_type": "error",
     "traceback": [
      "\u001b[1;31m---------------------------------------------------------------------------\u001b[0m",
      "\u001b[1;31mTypeError\u001b[0m                                 Traceback (most recent call last)",
      "\u001b[1;32m<ipython-input-17-5e40c4dbd4dd>\u001b[0m in \u001b[0;36m<module>\u001b[1;34m()\u001b[0m\n\u001b[0;32m      1\u001b[0m \u001b[0mA\u001b[0m \u001b[1;33m=\u001b[0m \u001b[0mrandom\u001b[0m\u001b[1;33m.\u001b[0m\u001b[0mrand\u001b[0m\u001b[1;33m(\u001b[0m\u001b[1;36m5\u001b[0m\u001b[1;33m,\u001b[0m\u001b[1;36m5\u001b[0m\u001b[1;33m)\u001b[0m\u001b[1;33m\u001b[0m\u001b[0m\n\u001b[1;32m----> 2\u001b[1;33m \u001b[0mL\u001b[0m\u001b[1;33m,\u001b[0m\u001b[0mU\u001b[0m \u001b[1;33m=\u001b[0m \u001b[0mlu_factorization\u001b[0m\u001b[1;33m(\u001b[0m\u001b[0mA\u001b[0m\u001b[1;33m)\u001b[0m\u001b[1;33m\u001b[0m\u001b[0m\n\u001b[0m\u001b[0;32m      3\u001b[0m \u001b[0massert_almost_equal\u001b[0m\u001b[1;33m(\u001b[0m\u001b[0mamax\u001b[0m\u001b[1;33m(\u001b[0m\u001b[0mA\u001b[0m \u001b[1;33m-\u001b[0m \u001b[0mL\u001b[0m\u001b[1;33m.\u001b[0m\u001b[0mdot\u001b[0m\u001b[1;33m(\u001b[0m\u001b[0mU\u001b[0m\u001b[1;33m)\u001b[0m\u001b[1;33m)\u001b[0m\u001b[1;33m,\u001b[0m\u001b[1;36m0\u001b[0m\u001b[1;33m,\u001b[0m\u001b[0mdecimal\u001b[0m\u001b[1;33m=\u001b[0m\u001b[1;36m14\u001b[0m\u001b[1;33m)\u001b[0m\u001b[1;33m\u001b[0m\u001b[0m\n",
      "\u001b[1;31mTypeError\u001b[0m: 'NoneType' object is not iterable"
     ]
    }
   ],
   "source": [
    "A = random.rand(5,5)\n",
    "L,U = lu_factorization(A)\n",
    "assert_almost_equal(amax(A - L.dot(U)),0,decimal=14)"
   ]
  },
  {
   "cell_type": "markdown",
   "metadata": {},
   "source": [
    "Write a function to solve the linear system $A\\,x=b$, via $LU$ factorization."
   ]
  },
  {
   "cell_type": "code",
   "execution_count": null,
   "metadata": {
    "collapsed": true,
    "deletable": false,
    "nbgrader": {
     "checksum": "4b415ae1522335ef179ac32e4c859b90",
     "grade": false,
     "grade_id": "lu_1",
     "locked": false,
     "solution": true
    }
   },
   "outputs": [],
   "source": [
    "def lu_solve(A,b):\n",
    "    # YOUR CODE HERE\n",
    "    raise NotImplementedError()"
   ]
  },
  {
   "cell_type": "code",
   "execution_count": null,
   "metadata": {
    "collapsed": true,
    "deletable": false,
    "nbgrader": {
     "checksum": "a84efd29e37ac27061cf48338f085bcb",
     "grade": true,
     "grade_id": "lu_1_tests",
     "locked": true,
     "points": 2,
     "solution": false
    }
   },
   "outputs": [],
   "source": [
    "A = random.rand(5,5)\n",
    "b = ones((5,))\n",
    "assert_almost_equal(lu_solve(A,b),solve(A,b),decimal=14)"
   ]
  }
 ],
 "metadata": {
  "kernelspec": {
   "display_name": "Python 3",
   "language": "python",
   "name": "python3"
  },
  "language_info": {
   "codemirror_mode": {
    "name": "ipython",
    "version": 3
   },
   "file_extension": ".py",
   "mimetype": "text/x-python",
   "name": "python",
   "nbconvert_exporter": "python",
   "pygments_lexer": "ipython3",
   "version": "3.5.0"
  }
 },
 "nbformat": 4,
 "nbformat_minor": 0
}
